{
 "cells": [
  {
   "cell_type": "code",
   "execution_count": 1,
   "metadata": {
    "collapsed": false
   },
   "outputs": [],
   "source": [
    "from pydblite import Base\n",
    "from sqlalchemy import create_engine\n",
    "from prediction import update_database, predict_logic\n",
    "import os\n",
    "import pandas as pd"
   ]
  },
  {
   "cell_type": "code",
   "execution_count": 2,
   "metadata": {
    "collapsed": false
   },
   "outputs": [
    {
     "name": "stdout",
     "output_type": "stream",
     "text": [
      "Start to update\n",
      "Pylitedb will updated from 2016-04-24 to 2016-05-07\n",
      "We took DataFrame from master database, try to insert in pylitedb.\n",
      "DataFrame is empty. No data from master database. Can't update pylitedb.\n",
      "Begin to make a prediction\n",
      "Data loaded\n",
      "top_cats_names.csv created\n",
      "top_30_cats_data.csv created\n",
      "Execute R script\n",
      "Done\n",
      "Cat2_forecast.xlsx created\n",
      "Done, prediction completed\n"
     ]
    }
   ],
   "source": [
    "# predict_logic args\n",
    "\n",
    "pred_path_to_file = './results_cat2.csv.zip'\n",
    "is_zip = True\n",
    "sales_path_to_file = './df2.csv'\n",
    "is_sql = False\n",
    "top_n = 30\n",
    "top_cats = 'top_cats_names.csv'\n",
    "top_n_cats = 'top_{}_cats_data.csv'.format(top_n)\n",
    "cat = 'Cat2'\n",
    "\n",
    "# R script args\n",
    "\n",
    "r_script_path = './arima.r'\n",
    "year = 2016\n",
    "week = 16\n",
    "training_weeks = 50\n",
    "weeks_back = 0\n",
    "forecast_depth = 2\n",
    "\n",
    "# Connection string to A_Master if nessesary\n",
    "\n",
    "host='marketingdb'\n",
    "user=os.environ.get('MARKETINGDB_USER')\n",
    "passwd=os.environ.get('MARKETINGDB_PASSWORD')\n",
    "db='bob_live_mx'\n",
    "connection_string = 'mysql://' + user + ':' + passwd + '@' + host + '/' + db + '?charset=utf8'\n",
    "\n",
    "# Connection to pylitedb\n",
    "\n",
    "db = Base('sales.pdl')\n",
    "if db.exists():\n",
    "    db.open()\n",
    "else:\n",
    "    db.create('key')\n",
    "df = update_database(db, connection_string)\n",
    "\n",
    "predict_logic(\n",
    "    db=db, # Cached pylitedb \n",
    "    path_input1=pred_path_to_file, # How many categories to predict\n",
    "    is_zip = is_zip, # True, if csv zipped\n",
    "    is_sql = is_sql, # False, if load data from csv until pylitedb(A_Master inside)\n",
    "    path_input2=sales_path_to_file, # Path to csv if is_sql = False\n",
    "    connection_string = connection_string, # Connection string to database\n",
    "    name_output1=top_cats, # Name(path) to export top cats\n",
    "    name_output2=top_n_cats, # Name(path) to export top N cats\n",
    "    top_n=top_n, # Count top categories\n",
    "    cat=cat, # Category code (Cat1, Cat2, Cat3)\n",
    "    \n",
    "    #  R script args\n",
    "    r_script_path = r_script_path, # Path to R script\n",
    "    year=year, # Current year\n",
    "    week=week, # Current week\n",
    "    training_weeks=training_weeks, # How many weeks in training period\n",
    "    weeks_back=weeks_back, # Ыhift of current week to [weeks_back] (timemachine, to forecast on historic data)\n",
    "    forecast_depth=forecast_depth # How many weeks to forecast\n",
    ")"
   ]
  }
 ],
 "metadata": {
  "kernelspec": {
   "display_name": "Python 2",
   "language": "python",
   "name": "python2"
  },
  "language_info": {
   "codemirror_mode": {
    "name": "ipython",
    "version": 2
   },
   "file_extension": ".py",
   "mimetype": "text/x-python",
   "name": "python",
   "nbconvert_exporter": "python",
   "pygments_lexer": "ipython2",
   "version": "2.7.11"
  }
 },
 "nbformat": 4,
 "nbformat_minor": 0
}
